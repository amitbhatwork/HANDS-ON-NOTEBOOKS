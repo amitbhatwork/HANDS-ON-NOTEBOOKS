{
 "cells": [
  {
   "cell_type": "markdown",
   "metadata": {},
   "source": [
    "###### EDA"
   ]
  },
  {
   "cell_type": "code",
   "execution_count": null,
   "metadata": {},
   "outputs": [],
   "source": [
    "# https://medium.com/@srimalashish/why-eda-is-necessary-for-machine-learning-233b6e4d5083\n",
    "# https://www.kdnuggets.com/2017/04/value-exploratory-data-analysis.html\n",
    "# https://towardsdatascience.com/exploratory-data-analysis-intro-for-data-modeling-8ff019362371\n",
    "# https://medium.com/swlh/the-data-and-the-story-2312e1f45908\n",
    "# https://medium.com/swlh/exploratory-data-analysis-what-is-it-and-why-is-it-so-important-part-1-2-240d58a89695\n",
    "# https://towardsdatascience.com/exploratory-data-analysis-eda-a-practical-guide-and-template-for-structured-data-abfbf3ee3bd9\n",
    "# https://medium.com/swlh/the-art-of-exploratory-data-analysis-eda-94a24320d3bd"
   ]
  },
  {
   "cell_type": "markdown",
   "metadata": {},
   "source": [
    "###### SELECTION BIAS"
   ]
  },
  {
   "cell_type": "code",
   "execution_count": null,
   "metadata": {},
   "outputs": [],
   "source": [
    "#https://medium.com/@akelleh/how-do-you-correct-selection-bias-d781a9b12de2"
   ]
  },
  {
   "cell_type": "markdown",
   "metadata": {},
   "source": [
    "###### MISSING VALUE ANALYSIS"
   ]
  },
  {
   "cell_type": "code",
   "execution_count": null,
   "metadata": {},
   "outputs": [],
   "source": [
    "#https://towardsdatascience.com/how-to-handle-missing-data-8646b18db0d4\n",
    "#https://medium.com/@SankaraJ/how-we-handle-missing-values-affects-the-accuracy-of-machine-learning-models-c120310141b5\n",
    "#https://medium.com/@kyawsawhtoon/a-guide-to-knn-imputation-95e2dc496e\n"
   ]
  },
  {
   "cell_type": "markdown",
   "metadata": {},
   "source": [
    "###### CORRELATION"
   ]
  },
  {
   "cell_type": "code",
   "execution_count": null,
   "metadata": {},
   "outputs": [],
   "source": [
    "#https://towardsdatascience.com/correlation-vs-causation-a-real-world-example-9e939c85581e\\\n",
    "#https://medium.com/causal-data-science/if-correlation-doesnt-imply-causation-then-what-does-c74f20d26438\n",
    "#https://towardsdatascience.com/better-heatmaps-and-correlation-matrix-plots-in-python-41445d0f2bec"
   ]
  },
  {
   "cell_type": "markdown",
   "metadata": {},
   "source": [
    "###### CLUSTERING"
   ]
  },
  {
   "cell_type": "code",
   "execution_count": null,
   "metadata": {},
   "outputs": [],
   "source": [
    "# https://towardsdatascience.com/the-5-clustering-algorithms-data-scientists-need-to-know-a36d136ef68"
   ]
  }
 ],
 "metadata": {
  "kernelspec": {
   "display_name": "Python 3",
   "language": "python",
   "name": "python3"
  },
  "language_info": {
   "codemirror_mode": {
    "name": "ipython",
    "version": 3
   },
   "file_extension": ".py",
   "mimetype": "text/x-python",
   "name": "python",
   "nbconvert_exporter": "python",
   "pygments_lexer": "ipython3",
   "version": "3.8.3"
  }
 },
 "nbformat": 4,
 "nbformat_minor": 4
}
