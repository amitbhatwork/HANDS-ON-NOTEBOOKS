{
 "cells": [
  {
   "cell_type": "markdown",
   "metadata": {
    "application/vnd.databricks.v1+cell": {
     "inputWidgets": {},
     "nuid": "6e3bcf1f-a1fa-41b1-8e71-6b64cdbb2ea3",
     "showTitle": false,
     "title": ""
    }
   },
   "source": [
    "## Quick Start: MLFLow in DAP (Training | Logging | Registering model in Centralized registry)\nIn this tutorial, you will:\n* Train a model and log metrics, parameters, models, and a .png plot from the training to the MLflow tracking server\n* View the training results in the MLflow tracking UI\n* Use DAPMLFlowClient to register/manage MLFlow models in centralized registry\n\nThis notebook uses the `diabetes` dataset in scikit-learn and predicts the progression metric (a quantitative measure of disease progression after one year after) based on BMI, blood pressure, etc. It uses the scikit-learn ElasticNet linear regression model, where we vary the `alpha` and `l1_ratio` parameters for tuning. For more information on ElasticNet, refer to:\n  * [Elastic net regularization](https://en.wikipedia.org/wiki/Elastic_net_regularization)\n  * [Regularization and Variable Selection via the Elastic Net](https://web.stanford.edu/~hastie/TALKS/enet_talk.pdf)"
   ]
  },
  {
   "cell_type": "markdown",
   "metadata": {
    "application/vnd.databricks.v1+cell": {
     "inputWidgets": {},
     "nuid": "2efb93d2-4c3f-43c0-87e3-949f0006cc1b",
     "showTitle": false,
     "title": ""
    }
   },
   "source": [
    "#### Write Your ML Code Based on the`train_diabetes.py` Code\nThis tutorial is based on MLflow's [ElasticNet Diabetes example](https://github.com/mlflow/mlflow/tree/master/examples/sklearn_elasticnet_diabetes), which uses the `sklearn.diabetes` built-in dataset to predict disease progression based on various factors."
   ]
  },
  {
   "cell_type": "markdown",
   "metadata": {
    "application/vnd.databricks.v1+cell": {
     "inputWidgets": {},
     "nuid": "f7792561-c985-4d1e-a3bb-5d86757c4bcd",
     "showTitle": false,
     "title": ""
    }
   },
   "source": [
    "## Feature Setup"
   ]
  },
  {
   "cell_type": "code",
   "execution_count": 0,
   "metadata": {
    "application/vnd.databricks.v1+cell": {
     "inputWidgets": {},
     "nuid": "07960192-4e66-416d-b18f-382e1b73f3c9",
     "showTitle": false,
     "title": ""
    }
   },
   "outputs": [
    {
     "data": {
      "text/html": [
       "<style scoped>\n  .ansiout {\n    display: block;\n    unicode-bidi: embed;\n    white-space: pre-wrap;\n    word-wrap: break-word;\n    word-break: break-all;\n    font-family: \"Source Code Pro\", \"Menlo\", monospace;;\n    font-size: 13px;\n    color: #555;\n    margin-left: 4px;\n    line-height: 19px;\n  }\n</style>\n<div class=\"ansiout\"></div>"
      ]
     },
     "metadata": {
      "application/vnd.databricks.v1+output": {
       "addedWidgets": {},
       "arguments": {},
       "data": "<div class=\"ansiout\"></div>",
       "datasetInfos": [],
       "removedWidgets": [],
       "type": "html"
      }
     },
     "output_type": "display_data"
    }
   ],
   "source": [
    "# Import various libraries including matplotlib, sklearn, mlflow\nimport os\nimport warnings\nimport sys\n\nimport pandas as pd\nimport numpy as np\nfrom itertools import cycle\nimport matplotlib.pyplot as plt\nfrom sklearn.metrics import mean_squared_error, mean_absolute_error, r2_score\nfrom sklearn.model_selection import train_test_split\nfrom sklearn.linear_model import ElasticNet\nfrom sklearn.linear_model import lasso_path, enet_path\nfrom sklearn import datasets\n\n# Import mlflow\nimport mlflow\nimport mlflow.sklearn\n\n# FIXME: According to Docs, databricks should automatically use this notebook as notebook\n# experiment, but for some reasons it's not working. For time being as a workaround\n# set experiment path as the path to the same notebooks in which mlflow.start_run() is \n# being called\nmlflow.set_experiment(\"/Reference Templates/DAPMLFlowExample\")\n\n# Load Diabetes datasets\ndiabetes = datasets.load_diabetes()\nX = diabetes.data\ny = diabetes.target\n\n# Create pandas DataFrame for sklearn ElasticNet linear_model\nY = np.array([y]).transpose()\nd = np.concatenate((X, Y), axis=1)\ncols = ['age', 'sex', 'bmi', 'bp', 's1', 's2', 's3', 's4', 's5', 's6', 'progression']\ndata = pd.DataFrame(d, columns=cols)"
   ]
  },
  {
   "cell_type": "markdown",
   "metadata": {
    "application/vnd.databricks.v1+cell": {
     "inputWidgets": {},
     "nuid": "d7eda51f-316d-4859-9fdf-5439ae6033c2",
     "showTitle": false,
     "title": ""
    }
   },
   "source": [
    "#### Plot the ElasticNet Descent Path\nAs an example of recording arbitrary output files in MLflow, plot the [ElasticNet Descent Path](http://scikit-learn.org/stable/auto_examples/linear_model/plot_lasso_coordinate_descent_path.html) for the ElasticNet model by *alpha* for the specified *l1_ratio*.\n\nThe `plot_enet_descent_path` function below:\n* Returns an image that can be displayed in our Databricks notebook via `display`\n* As well as saves the figure `ElasticNet-paths.png` to the Databricks cluster's driver node\n* Upload the file to MLflow using the `log_artifact` within `train_diabetes`"
   ]
  },
  {
   "cell_type": "code",
   "execution_count": 0,
   "metadata": {
    "application/vnd.databricks.v1+cell": {
     "inputWidgets": {},
     "nuid": "b950d9f9-77da-4cb9-8045-eab1ca2ddbb1",
     "showTitle": false,
     "title": ""
    }
   },
   "outputs": [
    {
     "data": {
      "text/html": [
       "<style scoped>\n  .ansiout {\n    display: block;\n    unicode-bidi: embed;\n    white-space: pre-wrap;\n    word-wrap: break-word;\n    word-break: break-all;\n    font-family: \"Source Code Pro\", \"Menlo\", monospace;;\n    font-size: 13px;\n    color: #555;\n    margin-left: 4px;\n    line-height: 19px;\n  }\n</style>\n<div class=\"ansiout\"></div>"
      ]
     },
     "metadata": {
      "application/vnd.databricks.v1+output": {
       "addedWidgets": {},
       "arguments": {},
       "data": "<div class=\"ansiout\"></div>",
       "datasetInfos": [],
       "removedWidgets": [],
       "type": "html"
      }
     },
     "output_type": "display_data"
    }
   ],
   "source": [
    "def plot_enet_descent_path(X, y, l1_ratio):\n    # Compute paths\n    eps = 5e-3  # the smaller it is the longer is the path\n\n    # Reference the global image variable\n    global image\n    \n    print(\"Computing regularization path using ElasticNet.\")\n    alphas_enet, coefs_enet, _ = enet_path(X, y, eps=eps, l1_ratio=l1_ratio, fit_intercept=False)\n\n    # Display results\n    fig = plt.figure(1)\n    ax = plt.gca()\n\n    colors = cycle(['b', 'r', 'g', 'c', 'k'])\n    neg_log_alphas_enet = -np.log10(alphas_enet)\n    for coef_e, c in zip(coefs_enet, colors):\n        l1 = plt.plot(neg_log_alphas_enet, coef_e, linestyle='--', c=c)\n\n    plt.xlabel('-Log(alpha)')\n    plt.ylabel('coefficients')\n    title = 'ElasticNet Path by alpha for l1_ratio = ' + str(l1_ratio)\n    plt.title(title)\n    plt.axis('tight')\n\n    # Display images\n    image = fig\n    \n    # Save figure\n#     fig.savefig(\"ElasticNet-paths.png\")\n\n    # Close plot\n    plt.close(fig)\n\n    # Return images\n    return image    "
   ]
  },
  {
   "cell_type": "markdown",
   "metadata": {
    "application/vnd.databricks.v1+cell": {
     "inputWidgets": {},
     "nuid": "79ce2ff3-e3ea-4ada-a3d0-7329a91b2129",
     "showTitle": false,
     "title": ""
    }
   },
   "source": [
    "#### Train the Diabetes Model\nThe next function trains ElasticNet linear regression based on the input parameters of `alpha (in_alpha)` and `l1_ratio (in_l1_ratio)`.\n\nIn addition, this function uses MLflow Tracking to record its\n* parameters\n* metrics\n* model\n* arbitrary files, namely the above noted Lasso Descent Path plot.\n\n**Tip:** Use `with mlflow.start_run:` in the Python code to create a new MLflow run. This is the recommended way to use MLflow in notebook cells. Whether your code completes or exits with an error, the `with` context will make sure to close the MLflow run, so you don't have to call `mlflow.end_run`."
   ]
  },
  {
   "cell_type": "code",
   "execution_count": 0,
   "metadata": {
    "application/vnd.databricks.v1+cell": {
     "inputWidgets": {},
     "nuid": "ac0377ef-44d1-4d35-a871-7111d1856a88",
     "showTitle": false,
     "title": ""
    }
   },
   "outputs": [
    {
     "data": {
      "text/html": [
       "<style scoped>\n  .ansiout {\n    display: block;\n    unicode-bidi: embed;\n    white-space: pre-wrap;\n    word-wrap: break-word;\n    word-break: break-all;\n    font-family: \"Source Code Pro\", \"Menlo\", monospace;;\n    font-size: 13px;\n    color: #555;\n    margin-left: 4px;\n    line-height: 19px;\n  }\n</style>\n<div class=\"ansiout\"></div>"
      ]
     },
     "metadata": {
      "application/vnd.databricks.v1+output": {
       "addedWidgets": {},
       "arguments": {},
       "data": "<div class=\"ansiout\"></div>",
       "datasetInfos": [],
       "removedWidgets": [],
       "type": "html"
      }
     },
     "output_type": "display_data"
    }
   ],
   "source": [
    "# train_diabetes\n#   Uses the sklearn Diabetes dataset to predict diabetes progression using ElasticNet\n#       The predicted \"progression\" column is a quantitative measure of disease progression one year after baseline\n#       http://scikit-learn.org/stable/modules/generated/sklearn.datasets.load_diabetes.html\nartifact_path=\"model\"\n\ndef train_diabetes(data, in_alpha, in_l1_ratio):\n  \n  # Evaluate metrics\n  def eval_metrics(actual, pred):\n      rmse = np.sqrt(mean_squared_error(actual, pred))\n      mae = mean_absolute_error(actual, pred)\n      r2 = r2_score(actual, pred)\n      return rmse, mae, r2\n \n  warnings.filterwarnings(\"ignore\")\n  np.random.seed(40)\n \n  # Split the data into training and test sets. (0.75, 0.25) split.\n  train, test = train_test_split(data)\n \n  # The predicted column is \"progression\" which is a quantitative measure of disease progression one year after baseline\n  train_x = train.drop([\"progression\"], axis=1)\n  test_x = test.drop([\"progression\"], axis=1)\n  train_y = train[[\"progression\"]]\n  test_y = test[[\"progression\"]]\n \n  if float(in_alpha) is None:\n    alpha = 0.05\n  else:\n    alpha = float(in_alpha)\n    \n  if float(in_l1_ratio) is None:\n    l1_ratio = 0.05\n  else:\n    l1_ratio = float(in_l1_ratio)\n  \n  # Start an MLflow run; the \"with\" keyword ensures we'll close the run even if this cell crashes\n  with mlflow.start_run() as mlflow_run:\n    lr = ElasticNet(alpha=alpha, l1_ratio=l1_ratio, random_state=42)\n    lr.fit(train_x, train_y)\n \n    predicted_qualities = lr.predict(test_x)\n \n    (rmse, mae, r2) = eval_metrics(test_y, predicted_qualities)\n \n    # Print out ElasticNet model metrics\n    print(\"Elasticnet model (alpha=%f, l1_ratio=%f):\" % (alpha, l1_ratio))\n    print(\"  RMSE: %s\" % rmse)\n    print(\"  MAE: %s\" % mae)\n    print(\"  R2: %s\" % r2)\n \n    # Log mlflow attributes for mlflow UI\n    mlflow.log_param(\"alpha\", alpha)\n    mlflow.log_param(\"l1_ratio\", l1_ratio)\n    mlflow.log_metric(\"rmse\", rmse)\n    mlflow.log_metric(\"r2\", r2)\n    mlflow.log_metric(\"mae\", mae)\n    mlflow.sklearn.log_model(lr, artifact_path)\n    \n    # Call plot_enet_descent_path\n    image = plot_enet_descent_path(X, y, l1_ratio)\n    \n    # Log artifacts (output files)\n#     mlflow.log_artifact(\"ElasticNet-paths.png\")\n    \n  run_id = mlflow_run.info.run_id\n  return run_id, image"
   ]
  },
  {
   "cell_type": "markdown",
   "metadata": {
    "application/vnd.databricks.v1+cell": {
     "inputWidgets": {},
     "nuid": "80068037-aa95-4c60-8b3a-ff0c26f35a01",
     "showTitle": false,
     "title": ""
    }
   },
   "source": [
    "#### Experiment with Different Parameters\n\nCall `train_diabetes` with different parameters. Later, you'll be able to visualize all these runs in the MLflow experiment."
   ]
  },
  {
   "cell_type": "code",
   "execution_count": 0,
   "metadata": {
    "application/vnd.databricks.v1+cell": {
     "inputWidgets": {},
     "nuid": "8b8e6697-a3e1-492f-a1b3-f8aeaaa787d8",
     "showTitle": false,
     "title": ""
    }
   },
   "outputs": [
    {
     "data": {
      "text/html": [
       "<style scoped>\n  .ansiout {\n    display: block;\n    unicode-bidi: embed;\n    white-space: pre-wrap;\n    word-wrap: break-word;\n    word-break: break-all;\n    font-family: \"Source Code Pro\", \"Menlo\", monospace;;\n    font-size: 13px;\n    color: #555;\n    margin-left: 4px;\n    line-height: 19px;\n  }\n</style>\n<div class=\"ansiout\">2021/01/22 09:09:25 WARNING mlflow.tracking.context.git_context: Failed to import Git (the Git executable is probably not on your PATH), so Git SHA is not available. Error: Failed to initialize: Bad git executable.\nThe git executable must be specified in one of the following ways:\n    - be included in your $PATH\n    - be set via $GIT_PYTHON_GIT_EXECUTABLE\n    - explicitly set via git.refresh()\n\nAll git commands will error until this is rectified.\n\nThis initial warning can be silenced or aggravated in the future by setting the\n$GIT_PYTHON_REFRESH environment variable. Use one of the following values:\n    - quiet|q|silence|s|none|n|0: for no warning or exception\n    - warn|w|warning|1: for a printed warning\n    - error|e|raise|r|2: for a raised exception\n\nExample:\n    export GIT_PYTHON_REFRESH=quiet\n\nElasticnet model (alpha=0.050000, l1_ratio=0.010000):\n  RMSE: 78.7195650063033\n  MAE: 66.42792985416786\n  R2: 0.06305191602574056\nComputing regularization path using ElasticNet.\n</div>"
      ]
     },
     "metadata": {
      "application/vnd.databricks.v1+output": {
       "addedWidgets": {},
       "arguments": {},
       "data": "<div class=\"ansiout\">2021/01/22 09:09:25 WARNING mlflow.tracking.context.git_context: Failed to import Git (the Git executable is probably not on your PATH), so Git SHA is not available. Error: Failed to initialize: Bad git executable.\nThe git executable must be specified in one of the following ways:\n    - be included in your $PATH\n    - be set via $GIT_PYTHON_GIT_EXECUTABLE\n    - explicitly set via git.refresh()\n\nAll git commands will error until this is rectified.\n\nThis initial warning can be silenced or aggravated in the future by setting the\n$GIT_PYTHON_REFRESH environment variable. Use one of the following values:\n    - quiet|q|silence|s|none|n|0: for no warning or exception\n    - warn|w|warning|1: for a printed warning\n    - error|e|raise|r|2: for a raised exception\n\nExample:\n    export GIT_PYTHON_REFRESH=quiet\n\nElasticnet model (alpha=0.050000, l1_ratio=0.010000):\n  RMSE: 78.7195650063033\n  MAE: 66.42792985416786\n  R2: 0.06305191602574056\nComputing regularization path using ElasticNet.\n</div>",
       "datasetInfos": [],
       "removedWidgets": [],
       "type": "html"
      }
     },
     "output_type": "display_data"
    }
   ],
   "source": [
    "# alpha and l1_ratio values of 0.05, 0.01\nrun_id, image = train_diabetes(data, 0.05, 0.01)\n"
   ]
  },
  {
   "cell_type": "markdown",
   "metadata": {
    "application/vnd.databricks.v1+cell": {
     "inputWidgets": {},
     "nuid": "4dc316db-e19c-4d50-80f6-ad414ef062b5",
     "showTitle": false,
     "title": ""
    }
   },
   "source": [
    "## View the run, experiment, run details, and notebook revision\n\n1. Click the **Experiment** icon in the notebook context bar to display the Experiment Runs sidebar. In the sidebar, you can view the run parameters and metrics. For example: <img src=\"https://docs.databricks.com/_static/images/mlflow/mlflow-notebook-experiments-python.gif\"/>\n   \n1. Click the External Link icon <img src=\"https://docs.databricks.com/_static/images/external-link.png\"/> in the Experiment Runs context bar to view the notebook experiment. For example: <img src=\"https://docs.databricks.com/_static/images/mlflow/quick-start-nb-experiment.png\"/>"
   ]
  },
  {
   "cell_type": "markdown",
   "metadata": {
    "application/vnd.databricks.v1+cell": {
     "inputWidgets": {},
     "nuid": "5fb4fb56-d44c-4dbc-8ea8-7b15229aaf6a",
     "showTitle": false,
     "title": ""
    }
   },
   "source": [
    "### Using DAPMLFlowClient to register model version in central registry"
   ]
  },
  {
   "cell_type": "code",
   "execution_count": 0,
   "metadata": {
    "application/vnd.databricks.v1+cell": {
     "inputWidgets": {},
     "nuid": "042c40d1-7e67-4f98-85ca-b291010406cb",
     "showTitle": true,
     "title": "Load DAPMLFlowClient"
    }
   },
   "outputs": [
    {
     "data": {
      "text/html": [
       "<style scoped>\n  .ansiout {\n    display: block;\n    unicode-bidi: embed;\n    white-space: pre-wrap;\n    word-wrap: break-word;\n    word-break: break-all;\n    font-family: \"Source Code Pro\", \"Menlo\", monospace;;\n    font-size: 13px;\n    color: #555;\n    margin-left: 4px;\n    line-height: 19px;\n  }\n</style>\n<div class=\"ansiout\"></div>"
      ]
     },
     "metadata": {
      "application/vnd.databricks.v1+output": {
       "addedWidgets": {},
       "arguments": {},
       "data": "<div class=\"ansiout\"></div>",
       "datasetInfos": [],
       "removedWidgets": [],
       "type": "html"
      }
     },
     "output_type": "display_data"
    },
    {
     "data": {
      "text/html": [
       "<style scoped>\n  .ansiout {\n    display: block;\n    unicode-bidi: embed;\n    white-space: pre-wrap;\n    word-wrap: break-word;\n    word-break: break-all;\n    font-family: \"Source Code Pro\", \"Menlo\", monospace;;\n    font-size: 13px;\n    color: #555;\n    margin-left: 4px;\n    line-height: 19px;\n  }\n</style>\n<div class=\"ansiout\"></div>"
      ]
     },
     "metadata": {
      "application/vnd.databricks.v1+output": {
       "addedWidgets": {},
       "arguments": {},
       "data": "<div class=\"ansiout\"></div>",
       "datasetInfos": [],
       "removedWidgets": [],
       "type": "html"
      }
     },
     "output_type": "display_data"
    },
    {
     "data": {
      "text/html": [
       "<style scoped>\n  .ansiout {\n    display: block;\n    unicode-bidi: embed;\n    white-space: pre-wrap;\n    word-wrap: break-word;\n    word-break: break-all;\n    font-family: \"Source Code Pro\", \"Menlo\", monospace;;\n    font-size: 13px;\n    color: #555;\n    margin-left: 4px;\n    line-height: 19px;\n  }\n</style>\n<div class=\"ansiout\"></div>"
      ]
     },
     "metadata": {
      "application/vnd.databricks.v1+output": {
       "addedWidgets": {},
       "arguments": {},
       "data": "<div class=\"ansiout\"></div>",
       "datasetInfos": [],
       "removedWidgets": [],
       "type": "html"
      }
     },
     "output_type": "display_data"
    }
   ],
   "source": [
    "%run /DAPLibraries/DAPMLFlowClient"
   ]
  },
  {
   "cell_type": "code",
   "execution_count": 0,
   "metadata": {
    "application/vnd.databricks.v1+cell": {
     "inputWidgets": {},
     "nuid": "68d1da2f-c91e-49f5-89aa-33a397e7290f",
     "showTitle": true,
     "title": "Instantiate DAPMLFlowClient and create a new model version"
    }
   },
   "outputs": [
    {
     "data": {
      "text/html": [
       "<style scoped>\n  .ansiout {\n    display: block;\n    unicode-bidi: embed;\n    white-space: pre-wrap;\n    word-wrap: break-word;\n    word-break: break-all;\n    font-family: \"Source Code Pro\", \"Menlo\", monospace;;\n    font-size: 13px;\n    color: #555;\n    margin-left: 4px;\n    line-height: 19px;\n  }\n</style>\n<div class=\"ansiout\">Registering model version for run with run id: 3b5e0273f80e43dca69fdcb9e0305f66\nThis model isn&#39;t registerd yet. Registering now...\nApplying permissions for model with name Diabetes Progression\nNo workspace ID specified; if your Databricks workspaces share the same host URL, you may want to specify the workspace ID (along with the host information in the secret manager) for run lineage tracking. For more details on how to specify this information in the secret manager, please refer to the model registry documentation.\n=== Copying model files from the source location to the model registry workspace ===\n=== Source model files were copied to dbfs:/databricks/mlflow/tmp-external-source/3b5e0273f80e43dca69fdcb9e0305f66/model in the model registry workspace. You may want to delete the files once the model version is in &#39;READY&#39; status. You can also find this location in the `source` field of the created model version. ===\n</div>"
      ]
     },
     "metadata": {
      "application/vnd.databricks.v1+output": {
       "addedWidgets": {},
       "arguments": {},
       "data": "<div class=\"ansiout\">Registering model version for run with run id: 3b5e0273f80e43dca69fdcb9e0305f66\nThis model isn&#39;t registerd yet. Registering now...\nApplying permissions for model with name Diabetes Progression\nNo workspace ID specified; if your Databricks workspaces share the same host URL, you may want to specify the workspace ID (along with the host information in the secret manager) for run lineage tracking. For more details on how to specify this information in the secret manager, please refer to the model registry documentation.\n=== Copying model files from the source location to the model registry workspace ===\n=== Source model files were copied to dbfs:/databricks/mlflow/tmp-external-source/3b5e0273f80e43dca69fdcb9e0305f66/model in the model registry workspace. You may want to delete the files once the model version is in &#39;READY&#39; status. You can also find this location in the `source` field of the created model version. ===\n</div>",
       "datasetInfos": [],
       "removedWidgets": [],
       "type": "html"
      }
     },
     "output_type": "display_data"
    }
   ],
   "source": [
    "# Replace usecase-name with name of the usecase provided by DAP Team\ndap_mlflow_client = DAPMLFlowClient(\"adr\") \nprint(\"Registering model version for run with run id:\", run_id)\ndap_mlflow_client.create_model_version(\"Diabetes Progression\", run_id, artifact_path)"
   ]
  },
  {
   "cell_type": "code",
   "execution_count": 0,
   "metadata": {
    "application/vnd.databricks.v1+cell": {
     "inputWidgets": {},
     "nuid": "a24a011e-7160-48f0-a88a-9a6df732d740",
     "showTitle": false,
     "title": ""
    }
   },
   "outputs": [],
   "source": [
    ""
   ]
  }
 ],
 "metadata": {
  "application/vnd.databricks.v1+notebook": {
   "dashboards": [],
   "language": "python",
   "notebookName": "DAPMLFlowExample",
   "notebookOrigID": 1081645941111400,
   "widgets": {}
  }
 },
 "nbformat": 4,
 "nbformat_minor": 0
}
